{
 "cells": [
  {
   "cell_type": "code",
   "execution_count": 27,
   "id": "8d42c71e-46c8-42ce-a8ff-c485b1b8d183",
   "metadata": {},
   "outputs": [
    {
     "name": "stdout",
     "output_type": "stream",
     "text": [
      "Dataset files: ['IMDB Top 250 Movies.csv']\n",
      "   rank                      name  year  rating               genre  \\\n",
      "0     1  The Shawshank Redemption  1994     9.3               Drama   \n",
      "1     2             The Godfather  1972     9.2         Crime,Drama   \n",
      "2     3           The Dark Knight  2008     9.0  Action,Crime,Drama   \n",
      "3     4     The Godfather Part II  1974     9.0         Crime,Drama   \n",
      "4     5              12 Angry Men  1957     9.0         Crime,Drama   \n",
      "\n",
      "  certificate run_time                                            tagline  \\\n",
      "0           R   2h 22m  Fear can hold you prisoner. Hope can set you f...   \n",
      "1           R   2h 55m                         An offer you can't refuse.   \n",
      "2       PG-13   2h 32m                                    Why So Serious?   \n",
      "3           R   3h 22m       All the power on earth can't change destiny.   \n",
      "4    Approved   1h 36m  Life Is In Their Hands -- Death Is On Their Mi...   \n",
      "\n",
      "      budget  box_office                                              casts  \\\n",
      "0   25000000    28884504  Tim Robbins,Morgan Freeman,Bob Gunton,William ...   \n",
      "1    6000000   250341816  Marlon Brando,Al Pacino,James Caan,Diane Keato...   \n",
      "2  185000000  1006234167  Christian Bale,Heath Ledger,Aaron Eckhart,Mich...   \n",
      "3   13000000    47961919  Al Pacino,Robert De Niro,Robert Duvall,Diane K...   \n",
      "4     350000         955  Henry Fonda,Lee J. Cobb,Martin Balsam,John Fie...   \n",
      "\n",
      "              directors                                          writers  \n",
      "0        Frank Darabont                      Stephen King,Frank Darabont  \n",
      "1  Francis Ford Coppola                  Mario Puzo,Francis Ford Coppola  \n",
      "2     Christopher Nolan  Jonathan Nolan,Christopher Nolan,David S. Goyer  \n",
      "3  Francis Ford Coppola                  Francis Ford Coppola,Mario Puzo  \n",
      "4          Sidney Lumet                                    Reginald Rose  \n"
     ]
    }
   ],
   "source": [
    "import kagglehub\n",
    "import pandas as pd\n",
    "import os\n",
    "from sklearn.feature_extraction.text import TfidfVectorizer\n",
    "from sklearn.metrics.pairwise import cosine_similarity\n",
    "\n",
    "# Download dataset from Kaggle\n",
    "path = kagglehub.dataset_download(\"rajugc/imdb-top-250-movies-dataset\")\n",
    "\n",
    "# List dataset files\n",
    "print(\"Dataset files:\", os.listdir(path))\n",
    "\n",
    "# Load the correct CSV file\n",
    "df = pd.read_csv(os.path.join(path, \"IMDB Top 250 Movies.csv\"))\n",
    "\n",
    "# Display first few rows\n",
    "print(df.head())"
   ]
  },
  {
   "cell_type": "code",
   "execution_count": 30,
   "id": "7767ba95-c2d2-40f9-b5c5-301c91e91fdc",
   "metadata": {},
   "outputs": [
    {
     "name": "stdout",
     "output_type": "stream",
     "text": [
      "Available columns after cleaning: Index(['rank', 'name', 'year', 'rating', 'genre', 'certificate', 'run_time',\n",
      "       'tagline', 'budget', 'box_office', 'casts', 'directors', 'writers'],\n",
      "      dtype='object')\n"
     ]
    }
   ],
   "source": [
    "# Standardize column names (convert to lowercase and strip spaces)\n",
    "df.columns = df.columns.str.strip().str.lower()\n",
    "\n",
    "# Print available columns again to confirm changes\n",
    "print(\"Available columns after cleaning:\", df.columns)\n"
   ]
  },
  {
   "cell_type": "code",
   "execution_count": 31,
   "id": "e5a42160-e382-4a58-9c85-66b2e3f16e85",
   "metadata": {},
   "outputs": [
    {
     "name": "stdout",
     "output_type": "stream",
     "text": [
      "Dataset shape after preprocessing: (250, 3)\n",
      "                      title               genre  \\\n",
      "0  The Shawshank Redemption               Drama   \n",
      "1             The Godfather         Crime,Drama   \n",
      "2           The Dark Knight  Action,Crime,Drama   \n",
      "3     The Godfather Part II         Crime,Drama   \n",
      "4              12 Angry Men         Crime,Drama   \n",
      "\n",
      "                                         description  \n",
      "0  Drama - Fear can hold you prisoner. Hope can s...  \n",
      "1           Crime,Drama - An offer you can't refuse.  \n",
      "2               Action,Crime,Drama - Why So Serious?  \n",
      "3  Crime,Drama - All the power on earth can't cha...  \n",
      "4  Crime,Drama - Life Is In Their Hands -- Death ...  \n"
     ]
    }
   ],
   "source": [
    "# Select the relevant columns\n",
    "df = df[['name', 'genre', 'tagline']]\n",
    "\n",
    "# Drop rows where any of these columns are missing\n",
    "df = df.dropna(subset=['name', 'genre', 'tagline'])\n",
    "\n",
    "# Rename 'name' → 'title' for consistency\n",
    "df.rename(columns={'name': 'title'}, inplace=True)\n",
    "\n",
    "# Create a combined description using genre and tagline\n",
    "df['description'] = df['genre'] + \" - \" + df['tagline']\n",
    "\n",
    "# Keep only relevant columns\n",
    "df = df[['title', 'genre', 'description']]\n",
    "\n",
    "# Print dataset shape and sample rows\n",
    "print(\"Dataset shape after preprocessing:\", df.shape)\n",
    "print(df.head())"
   ]
  },
  {
   "cell_type": "code",
   "execution_count": 17,
   "id": "32d362b8-f7ed-48f9-a49e-77489da1169c",
   "metadata": {},
   "outputs": [
    {
     "name": "stdout",
     "output_type": "stream",
     "text": [
      "TF-IDF Matrix Shape: (250, 282)\n"
     ]
    }
   ],
   "source": [
    "# Configure the TF-IDF Vectorizer with optimized parameters\n",
    "tfidf_vectorizer = TfidfVectorizer(\n",
    "    stop_words='english',\n",
    "    ngram_range=(1, 2),   # Use unigrams and bigrams\n",
    "    max_df=0.85,          # Allow words that occur in up to 85% of documents\n",
    "    min_df=2,             # Ignore words that occur in less than 2 documents\n",
    "    sublinear_tf=True     # Apply sublinear TF scaling\n",
    ")\n",
    "\n",
    "# Fit and transform the movie descriptions to create the TF-IDF matrix\n",
    "tfidf_matrix = tfidf_vectorizer.fit_transform(df['description'])\n",
    "print(\"TF-IDF Matrix Shape:\", tfidf_matrix.shape)"
   ]
  },
  {
   "cell_type": "code",
   "execution_count": 18,
   "id": "3f6acd0e-c45b-4f3d-bd01-9fb3b3574933",
   "metadata": {},
   "outputs": [],
   "source": [
    "def expand_query(query):\n",
    "    \"\"\"\n",
    "    Expands the user query with additional synonyms for better matching.\n",
    "    \"\"\"\n",
    "    replacements = {\n",
    "        \"space\": \"sci-fi intergalactic galaxy\",\n",
    "        \"thrilling\": \"action suspense intense\",\n",
    "        \"comedic\": \"comedy humorous funny\",\n",
    "        \"crime\": \"thriller heist law\",\n",
    "        \"fight\": \"battle war combat\",\n",
    "        \"alien\": \"extraterrestrial sci-fi\"\n",
    "    }\n",
    "    for word, synonym in replacements.items():\n",
    "        query = query.replace(word, f\"{word} {synonym}\")  # Keep the original and add synonyms\n",
    "    return query\n"
   ]
  },
  {
   "cell_type": "code",
   "execution_count": 21,
   "id": "ba474c8b-be9c-4dad-9e55-e80952193f28",
   "metadata": {},
   "outputs": [],
   "source": [
    "def recommend_movies(user_query, df, vectorizer, tfidf_matrix, top_n=5):\n",
    "    \"\"\"\n",
    "    Recommends the top-N most similar movies based on the user query.\n",
    "    The function expands the query, increases its weight, and applies genre-based boosting and penalties.\n",
    "    \"\"\"\n",
    "    # Expand the user query to include related synonyms/terms\n",
    "    expanded_query = expand_query(user_query)\n",
    "    \n",
    "    # Transform the expanded query into a TF-IDF vector and boost its weight\n",
    "    user_vector = vectorizer.transform([expanded_query]) * 3  # Stronger query weight\n",
    "    \n",
    "    # Compute cosine similarity between the query vector and all movie description vectors\n",
    "    similarities = cosine_similarity(user_vector, tfidf_matrix).flatten()\n",
    "    \n",
    "    # Boost movies with relevant genres (Action, Sci-Fi, Comedy) and penalize irrelevant ones (Animation, Biography, Romance)\n",
    "    genre_boost = df['genre'].apply(lambda x: 0.15 if any(kw in x for kw in ['Action', 'Sci-Fi', 'Comedy']) else 0)\n",
    "    genre_penalty = df['genre'].apply(lambda x: -0.1 if any(kw in x for kw in ['Animation', 'Biography', 'Romance']) else 0)\n",
    "    \n",
    "    # Adjust similarity scores with the boost and penalty\n",
    "    similarities += genre_boost + genre_penalty\n",
    "    \n",
    "    # Get indices of the top-N most similar movies\n",
    "    top_indices = similarities.argsort()[-top_n:][::-1]\n",
    "    \n",
    "    # Return the top recommended movies along with their title, description, genre, and similarity score.\n",
    "    return df.iloc[top_indices][['title', 'description', 'genre']].assign(similarity_score=similarities[top_indices])"
   ]
  },
  {
   "cell_type": "code",
   "execution_count": 22,
   "id": "c583e9c8-d969-450f-b342-401ead01581b",
   "metadata": {},
   "outputs": [
    {
     "data": {
      "text/html": [
       "<div>\n",
       "<style scoped>\n",
       "    .dataframe tbody tr th:only-of-type {\n",
       "        vertical-align: middle;\n",
       "    }\n",
       "\n",
       "    .dataframe tbody tr th {\n",
       "        vertical-align: top;\n",
       "    }\n",
       "\n",
       "    .dataframe thead th {\n",
       "        text-align: right;\n",
       "    }\n",
       "</style>\n",
       "<table border=\"1\" class=\"dataframe\">\n",
       "  <thead>\n",
       "    <tr style=\"text-align: right;\">\n",
       "      <th></th>\n",
       "      <th>title</th>\n",
       "      <th>description</th>\n",
       "      <th>genre</th>\n",
       "      <th>similarity_score</th>\n",
       "    </tr>\n",
       "  </thead>\n",
       "  <tbody>\n",
       "    <tr>\n",
       "      <th>50</th>\n",
       "      <td>Alien</td>\n",
       "      <td>Horror,Sci-Fi - In space no one can hear you s...</td>\n",
       "      <td>Horror,Sci-Fi</td>\n",
       "      <td>0.687342</td>\n",
       "    </tr>\n",
       "    <tr>\n",
       "      <th>28</th>\n",
       "      <td>Terminator 2: Judgment Day</td>\n",
       "      <td>Action,Sci-Fi - It's nothing personal.</td>\n",
       "      <td>Action,Sci-Fi</td>\n",
       "      <td>0.600087</td>\n",
       "    </tr>\n",
       "    <tr>\n",
       "      <th>13</th>\n",
       "      <td>Inception</td>\n",
       "      <td>Action,Adventure,Sci-Fi - Your mind is the sce...</td>\n",
       "      <td>Action,Adventure,Sci-Fi</td>\n",
       "      <td>0.505708</td>\n",
       "    </tr>\n",
       "    <tr>\n",
       "      <th>175</th>\n",
       "      <td>Blade Runner</td>\n",
       "      <td>Action,Drama,Sci-Fi - A Futuristic Vision Perf...</td>\n",
       "      <td>Action,Drama,Sci-Fi</td>\n",
       "      <td>0.503562</td>\n",
       "    </tr>\n",
       "    <tr>\n",
       "      <th>29</th>\n",
       "      <td>Back to the Future</td>\n",
       "      <td>Adventure,Comedy,Sci-Fi - He's the only kid ev...</td>\n",
       "      <td>Adventure,Comedy,Sci-Fi</td>\n",
       "      <td>0.494270</td>\n",
       "    </tr>\n",
       "  </tbody>\n",
       "</table>\n",
       "</div>"
      ],
      "text/plain": [
       "                          title  \\\n",
       "50                        Alien   \n",
       "28   Terminator 2: Judgment Day   \n",
       "13                    Inception   \n",
       "175                Blade Runner   \n",
       "29           Back to the Future   \n",
       "\n",
       "                                           description  \\\n",
       "50   Horror,Sci-Fi - In space no one can hear you s...   \n",
       "28              Action,Sci-Fi - It's nothing personal.   \n",
       "13   Action,Adventure,Sci-Fi - Your mind is the sce...   \n",
       "175  Action,Drama,Sci-Fi - A Futuristic Vision Perf...   \n",
       "29   Adventure,Comedy,Sci-Fi - He's the only kid ev...   \n",
       "\n",
       "                       genre  similarity_score  \n",
       "50             Horror,Sci-Fi          0.687342  \n",
       "28             Action,Sci-Fi          0.600087  \n",
       "13   Action,Adventure,Sci-Fi          0.505708  \n",
       "175      Action,Drama,Sci-Fi          0.503562  \n",
       "29   Adventure,Comedy,Sci-Fi          0.494270  "
      ]
     },
     "execution_count": 22,
     "metadata": {},
     "output_type": "execute_result"
    }
   ],
   "source": [
    "# Example user query\n",
    "user_query = \"I love thrilling action movies set in space, with a comedic twist.\"\n",
    "\n",
    "# Get the top 5 recommendations\n",
    "recommendations = recommend_movies(user_query, df, tfidf_vectorizer, tfidf_matrix)\n",
    "print(\"Top Recommendations:\")\n",
    "print(recommendations)"
   ]
  },
  {
   "cell_type": "code",
   "execution_count": null,
   "id": "9080c2a9-12a2-4e10-bc51-ecad5bfdadcb",
   "metadata": {},
   "outputs": [],
   "source": []
  }
 ],
 "metadata": {
  "kernelspec": {
   "display_name": "Python 3 (ipykernel)",
   "language": "python",
   "name": "python3"
  },
  "language_info": {
   "codemirror_mode": {
    "name": "ipython",
    "version": 3
   },
   "file_extension": ".py",
   "mimetype": "text/x-python",
   "name": "python",
   "nbconvert_exporter": "python",
   "pygments_lexer": "ipython3",
   "version": "3.10.10"
  }
 },
 "nbformat": 4,
 "nbformat_minor": 5
}
