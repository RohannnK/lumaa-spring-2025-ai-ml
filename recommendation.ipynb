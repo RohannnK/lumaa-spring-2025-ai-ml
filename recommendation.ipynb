{
 "cells": [
  {
   "cell_type": "code",
   "execution_count": 29,
   "id": "8d42c71e-46c8-42ce-a8ff-c485b1b8d183",
   "metadata": {},
   "outputs": [
    {
     "name": "stdout",
     "output_type": "stream",
     "text": [
      "Dataset files: ['IMDB Top 250 Movies.csv']\n",
      "   rank                      name  year  rating               genre  \\\n",
      "0     1  The Shawshank Redemption  1994     9.3               Drama   \n",
      "1     2             The Godfather  1972     9.2         Crime,Drama   \n",
      "2     3           The Dark Knight  2008     9.0  Action,Crime,Drama   \n",
      "3     4     The Godfather Part II  1974     9.0         Crime,Drama   \n",
      "4     5              12 Angry Men  1957     9.0         Crime,Drama   \n",
      "\n",
      "  certificate run_time                                            tagline  \\\n",
      "0           R   2h 22m  Fear can hold you prisoner. Hope can set you f...   \n",
      "1           R   2h 55m                         An offer you can't refuse.   \n",
      "2       PG-13   2h 32m                                    Why So Serious?   \n",
      "3           R   3h 22m       All the power on earth can't change destiny.   \n",
      "4    Approved   1h 36m  Life Is In Their Hands -- Death Is On Their Mi...   \n",
      "\n",
      "      budget  box_office                                              casts  \\\n",
      "0   25000000    28884504  Tim Robbins,Morgan Freeman,Bob Gunton,William ...   \n",
      "1    6000000   250341816  Marlon Brando,Al Pacino,James Caan,Diane Keato...   \n",
      "2  185000000  1006234167  Christian Bale,Heath Ledger,Aaron Eckhart,Mich...   \n",
      "3   13000000    47961919  Al Pacino,Robert De Niro,Robert Duvall,Diane K...   \n",
      "4     350000         955  Henry Fonda,Lee J. Cobb,Martin Balsam,John Fie...   \n",
      "\n",
      "              directors                                          writers  \n",
      "0        Frank Darabont                      Stephen King,Frank Darabont  \n",
      "1  Francis Ford Coppola                  Mario Puzo,Francis Ford Coppola  \n",
      "2     Christopher Nolan  Jonathan Nolan,Christopher Nolan,David S. Goyer  \n",
      "3  Francis Ford Coppola                  Francis Ford Coppola,Mario Puzo  \n",
      "4          Sidney Lumet                                    Reginald Rose  \n"
     ]
    }
   ],
   "source": [
    "import kagglehub\n",
    "import pandas as pd\n",
    "import os\n",
    "from sklearn.feature_extraction.text import TfidfVectorizer\n",
    "from sklearn.metrics.pairwise import cosine_similarity\n",
    "\n",
    "# Download dataset from Kaggle\n",
    "path = kagglehub.dataset_download(\"rajugc/imdb-top-250-movies-dataset\")\n",
    "\n",
    "# List dataset files\n",
    "print(\"Dataset files:\", os.listdir(path))\n",
    "\n",
    "# Load the correct CSV file\n",
    "df = pd.read_csv(os.path.join(path, \"IMDB Top 250 Movies.csv\"))\n",
    "\n",
    "# Display first few rows\n",
    "print(df.head())"
   ]
  },
  {
   "cell_type": "code",
   "execution_count": 30,
   "id": "7767ba95-c2d2-40f9-b5c5-301c91e91fdc",
   "metadata": {},
   "outputs": [
    {
     "name": "stdout",
     "output_type": "stream",
     "text": [
      "Dataset Shape: (250, 2)\n"
     ]
    },
    {
     "data": {
      "text/html": [
       "<div>\n",
       "<style scoped>\n",
       "    .dataframe tbody tr th:only-of-type {\n",
       "        vertical-align: middle;\n",
       "    }\n",
       "\n",
       "    .dataframe tbody tr th {\n",
       "        vertical-align: top;\n",
       "    }\n",
       "\n",
       "    .dataframe thead th {\n",
       "        text-align: right;\n",
       "    }\n",
       "</style>\n",
       "<table border=\"1\" class=\"dataframe\">\n",
       "  <thead>\n",
       "    <tr style=\"text-align: right;\">\n",
       "      <th></th>\n",
       "      <th>title</th>\n",
       "      <th>description</th>\n",
       "    </tr>\n",
       "  </thead>\n",
       "  <tbody>\n",
       "    <tr>\n",
       "      <th>0</th>\n",
       "      <td>The Shawshank Redemption</td>\n",
       "      <td>Drama - Fear can hold you prisoner. Hope can s...</td>\n",
       "    </tr>\n",
       "    <tr>\n",
       "      <th>1</th>\n",
       "      <td>The Godfather</td>\n",
       "      <td>Crime,Drama - An offer you can't refuse.</td>\n",
       "    </tr>\n",
       "    <tr>\n",
       "      <th>2</th>\n",
       "      <td>The Dark Knight</td>\n",
       "      <td>Action,Crime,Drama - Why So Serious?</td>\n",
       "    </tr>\n",
       "    <tr>\n",
       "      <th>3</th>\n",
       "      <td>The Godfather Part II</td>\n",
       "      <td>Crime,Drama - All the power on earth can't cha...</td>\n",
       "    </tr>\n",
       "    <tr>\n",
       "      <th>4</th>\n",
       "      <td>12 Angry Men</td>\n",
       "      <td>Crime,Drama - Life Is In Their Hands -- Death ...</td>\n",
       "    </tr>\n",
       "  </tbody>\n",
       "</table>\n",
       "</div>"
      ],
      "text/plain": [
       "                      title                                        description\n",
       "0  The Shawshank Redemption  Drama - Fear can hold you prisoner. Hope can s...\n",
       "1             The Godfather           Crime,Drama - An offer you can't refuse.\n",
       "2           The Dark Knight               Action,Crime,Drama - Why So Serious?\n",
       "3     The Godfather Part II  Crime,Drama - All the power on earth can't cha...\n",
       "4              12 Angry Men  Crime,Drama - Life Is In Their Hands -- Death ..."
      ]
     },
     "execution_count": 30,
     "metadata": {},
     "output_type": "execute_result"
    }
   ],
   "source": [
    "# Keep relevant columns: Title, Genre, and Tagline\n",
    "df = df[['name', 'genre', 'tagline']].dropna()\n",
    "\n",
    "# Combine genre and tagline to create a more meaningful \"description\"\n",
    "df['description'] = df['genre'] + \" - \" + df['tagline']\n",
    "\n",
    "# Rename for consistency\n",
    "df = df[['name', 'description']]\n",
    "df.columns = ['title', 'description']\n",
    "\n",
    "# Display dataset shape and sample rows\n",
    "print(\"Dataset Shape:\", df.shape)\n",
    "df.head()\n"
   ]
  },
  {
   "cell_type": "code",
   "execution_count": 31,
   "id": "32d362b8-f7ed-48f9-a49e-77489da1169c",
   "metadata": {},
   "outputs": [
    {
     "name": "stdout",
     "output_type": "stream",
     "text": [
      "TF-IDF Matrix Shape: (250, 6)\n"
     ]
    }
   ],
   "source": [
    "# Improve TF-IDF vectorizer with relevant vocabulary\n",
    "tfidf_vectorizer = TfidfVectorizer(\n",
    "    stop_words='english',\n",
    "    ngram_range=(1, 2),  # Use unigrams & bigrams\n",
    "    max_df=0.8,          # Ignore overly common words\n",
    "    min_df=2,            # Ignore very rare words\n",
    "    vocabulary=['action', 'thriller', 'sci-fi', 'space', 'adventure', 'comedy']\n",
    ")\n",
    "\n",
    "# Convert descriptions to TF-IDF vectors\n",
    "tfidf_matrix = tfidf_vectorizer.fit_transform(df['description'])\n",
    "\n",
    "print(\"TF-IDF Matrix Shape:\", tfidf_matrix.shape)  # (num_movies, num_unique_words)\n"
   ]
  },
  {
   "cell_type": "code",
   "execution_count": 32,
   "id": "3f6acd0e-c45b-4f3d-bd01-9fb3b3574933",
   "metadata": {},
   "outputs": [],
   "source": [
    "def expand_query(query):\n",
    "    \"\"\"\n",
    "    Expands user query with relevant synonyms for better matching.\n",
    "    \"\"\"\n",
    "    replacements = {\n",
    "        \"space\": \"sci-fi\",\n",
    "        \"thrilling\": \"action\",\n",
    "        \"comedic\": \"comedy\",\n",
    "        \"crime\": \"thriller\"\n",
    "    }\n",
    "    for word, synonym in replacements.items():\n",
    "        query = query.replace(word, f\"{word} {synonym}\")  # Keep both words\n",
    "    return query\n"
   ]
  },
  {
   "cell_type": "code",
   "execution_count": 33,
   "id": "ba474c8b-be9c-4dad-9e55-e80952193f28",
   "metadata": {},
   "outputs": [],
   "source": [
    "def recommend_movies(user_query, df, vectorizer, tfidf_matrix, top_n=5):\n",
    "    \"\"\"\n",
    "    Improved: Expands query and boosts action/sci-fi/comedy movies.\n",
    "    \"\"\"\n",
    "    expanded_query = expand_query(user_query)  # Expand query\n",
    "    user_vector = vectorizer.transform([expanded_query])\n",
    "\n",
    "    similarities = cosine_similarity(user_vector, tfidf_matrix).flatten()\n",
    "\n",
    "    # Boost movies in relevant genres\n",
    "    genre_boost = df['description'].apply(lambda x: 0.1 if 'Action' in x or 'Sci-Fi' in x or 'Comedy' in x else 0)\n",
    "    similarities += genre_boost  # Add boost to similarity scores\n",
    "\n",
    "    top_indices = similarities.argsort()[-top_n:][::-1]\n",
    "    \n",
    "    return df.iloc[top_indices][['title', 'description']].assign(similarity_score=similarities[top_indices])\n"
   ]
  },
  {
   "cell_type": "code",
   "execution_count": 34,
   "id": "c583e9c8-d969-450f-b342-401ead01581b",
   "metadata": {},
   "outputs": [
    {
     "data": {
      "text/html": [
       "<div>\n",
       "<style scoped>\n",
       "    .dataframe tbody tr th:only-of-type {\n",
       "        vertical-align: middle;\n",
       "    }\n",
       "\n",
       "    .dataframe tbody tr th {\n",
       "        vertical-align: top;\n",
       "    }\n",
       "\n",
       "    .dataframe thead th {\n",
       "        text-align: right;\n",
       "    }\n",
       "</style>\n",
       "<table border=\"1\" class=\"dataframe\">\n",
       "  <thead>\n",
       "    <tr style=\"text-align: right;\">\n",
       "      <th></th>\n",
       "      <th>title</th>\n",
       "      <th>description</th>\n",
       "      <th>similarity_score</th>\n",
       "    </tr>\n",
       "  </thead>\n",
       "  <tbody>\n",
       "    <tr>\n",
       "      <th>153</th>\n",
       "      <td>Finding Nemo</td>\n",
       "      <td>Animation,Adventure,Comedy - 71% of the Earth'...</td>\n",
       "      <td>0.812985</td>\n",
       "    </tr>\n",
       "    <tr>\n",
       "      <th>194</th>\n",
       "      <td>Sherlock Jr.</td>\n",
       "      <td>Action,Comedy,Romance - every inch of footage ...</td>\n",
       "      <td>0.788344</td>\n",
       "    </tr>\n",
       "    <tr>\n",
       "      <th>159</th>\n",
       "      <td>Lock, Stock and Two Smoking Barrels</td>\n",
       "      <td>Action,Comedy,Crime - A Disgrace to Criminals ...</td>\n",
       "      <td>0.788344</td>\n",
       "    </tr>\n",
       "    <tr>\n",
       "      <th>50</th>\n",
       "      <td>Alien</td>\n",
       "      <td>Horror,Sci-Fi - In space no one can hear you s...</td>\n",
       "      <td>0.786677</td>\n",
       "    </tr>\n",
       "    <tr>\n",
       "      <th>124</th>\n",
       "      <td>Dangal</td>\n",
       "      <td>Action,Biography,Drama - You think our girls a...</td>\n",
       "      <td>0.741897</td>\n",
       "    </tr>\n",
       "  </tbody>\n",
       "</table>\n",
       "</div>"
      ],
      "text/plain": [
       "                                   title  \\\n",
       "153                         Finding Nemo   \n",
       "194                         Sherlock Jr.   \n",
       "159  Lock, Stock and Two Smoking Barrels   \n",
       "50                                 Alien   \n",
       "124                               Dangal   \n",
       "\n",
       "                                           description  similarity_score  \n",
       "153  Animation,Adventure,Comedy - 71% of the Earth'...          0.812985  \n",
       "194  Action,Comedy,Romance - every inch of footage ...          0.788344  \n",
       "159  Action,Comedy,Crime - A Disgrace to Criminals ...          0.788344  \n",
       "50   Horror,Sci-Fi - In space no one can hear you s...          0.786677  \n",
       "124  Action,Biography,Drama - You think our girls a...          0.741897  "
      ]
     },
     "execution_count": 34,
     "metadata": {},
     "output_type": "execute_result"
    }
   ],
   "source": [
    "# Example query\n",
    "user_query = \"I love thrilling action movies set in space, with a comedic twist.\"\n",
    "\n",
    "# Get recommendations\n",
    "recommendations = recommend_movies(user_query, df, tfidf_vectorizer, tfidf_matrix)\n",
    "\n",
    "# Display results\n",
    "recommendations\n"
   ]
  },
  {
   "cell_type": "code",
   "execution_count": null,
   "id": "9080c2a9-12a2-4e10-bc51-ecad5bfdadcb",
   "metadata": {},
   "outputs": [],
   "source": []
  }
 ],
 "metadata": {
  "kernelspec": {
   "display_name": "Python 3 (ipykernel)",
   "language": "python",
   "name": "python3"
  },
  "language_info": {
   "codemirror_mode": {
    "name": "ipython",
    "version": 3
   },
   "file_extension": ".py",
   "mimetype": "text/x-python",
   "name": "python",
   "nbconvert_exporter": "python",
   "pygments_lexer": "ipython3",
   "version": "3.10.10"
  }
 },
 "nbformat": 4,
 "nbformat_minor": 5
}
